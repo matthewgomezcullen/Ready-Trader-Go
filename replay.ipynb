{
 "cells": [
  {
   "cell_type": "code",
   "execution_count": 1,
   "metadata": {},
   "outputs": [],
   "source": [
    "import pandas as pd"
   ]
  },
  {
   "cell_type": "code",
   "execution_count": 10,
   "metadata": {},
   "outputs": [],
   "source": [
    "# import match249_events.csv\n",
    "df = pd.read_csv('match249_events.csv')\n",
    "\n",
    "# df = df.drop('Fee', axis=1)\n",
    "# df = df.drop('Competitor', axis=1)\n",
    "# round to int for Instrument column where it's not nan\n",
    "df['Instrument'] = df['Instrument'].apply(lambda x: int(x) if not pd.isnull(x) else x)\n",
    "# where Instrument is nan, fill with 0\n",
    "df['Instrument'] = df['Instrument'].fillna(0)\n",
    "# where Operation = Trade, drop row\n",
    "df = df[df['Operation'] != 'Hedge']\n",
    "# reorder columns\n",
    "df = df[[\n",
    "    'Time',\n",
    "    'Instrument',\n",
    "    'Operation',\n",
    "    'OrderId',\n",
    "    'Side',\n",
    "    'Volume',\n",
    "    'Price',\n",
    "    'Lifespan'\n",
    "]]\n",
    "df.head()\n",
    "\n",
    "# save to match249_events.csv\n",
    "df.to_csv('match249_events.csv', index=False)"
   ]
  },
  {
   "cell_type": "code",
   "execution_count": null,
   "metadata": {},
   "outputs": [],
   "source": []
  }
 ],
 "metadata": {
  "kernelspec": {
   "display_name": "Python 3",
   "language": "python",
   "name": "python3"
  },
  "language_info": {
   "codemirror_mode": {
    "name": "ipython",
    "version": 3
   },
   "file_extension": ".py",
   "mimetype": "text/x-python",
   "name": "python",
   "nbconvert_exporter": "python",
   "pygments_lexer": "ipython3",
   "version": "3.9.16"
  },
  "orig_nbformat": 4
 },
 "nbformat": 4,
 "nbformat_minor": 2
}
